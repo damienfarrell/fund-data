{
 "cells": [
  {
   "cell_type": "markdown",
   "metadata": {},
   "source": [
    "# Fundamentals of Data Analysis Tasks\n",
    "\n",
    "---\n",
    "\n",
    "**Author = Damien Farrell**\n",
    "\n",
    "---"
   ]
  },
  {
   "cell_type": "markdown",
   "metadata": {},
   "source": [
    "## Task One\n",
    "\n",
    "> The Collatz conjecture is a famous unsolved problem in mathematics. The problem is to prove that if you start with any positive integer $x$ and repeatedly apply the function $f(x)$ below, you always get stuck in the repeating sequence $1, 4, 2, 1, 4, 2, ...$\n",
    "> $$\n",
    "> f(n) = \n",
    "> \\begin{cases} \n",
    "> n \\div 2 & \\text{if } n \\text{ is even} \\\\\n",
    "> 3n + 1 & \\text{if } n \\text{ is odd}\n",
    "> \\end{cases}\n",
    "> $$\n",
    "> Your task is to verify, using Python, that the conjecture is true for the first 10,000 positive integers."
   ]
  },
  {
   "cell_type": "markdown",
   "metadata": {},
   "source": [
    "**Function f(x) to carry out the calculation.**"
   ]
  },
  {
   "cell_type": "code",
   "execution_count": 37,
   "metadata": {},
   "outputs": [],
   "source": [
    "def f(x):\n",
    "    if x % 2 == 0:\n",
    "        return x // 2\n",
    "    else:\n",
    "        return (3 * x) + 1"
   ]
  },
  {
   "cell_type": "markdown",
   "metadata": {},
   "source": [
    "**Fuction collatz(x) to loop through the calculation until $x = 1$.**\n",
    "\n",
    "To show calculation on each iteration, reinstate the print statements. This is due to the length limitation of the output field."
   ]
  },
  {
   "cell_type": "code",
   "execution_count": 38,
   "metadata": {},
   "outputs": [],
   "source": [
    "def collatz(x):\n",
    "    while x != 1:\n",
    "        # print(x, end=', ')\n",
    "        x = f(x)\n",
    "    # print(x, end='\\n')\n",
    "    # print()\n",
    "    return x"
   ]
  },
  {
   "cell_type": "markdown",
   "metadata": {},
   "source": [
    "**Fuction verify(y) to verify the Collatz conjecture on $y$ number of positive integers.**"
   ]
  },
  {
   "cell_type": "code",
   "execution_count": 39,
   "metadata": {},
   "outputs": [],
   "source": [
    "def verify(y):\n",
    "    for i in range(1, y + 1):\n",
    "        result = collatz(i)\n",
    "        if result != 1:\n",
    "            print(f'The Collatz conjecture is false, it failed on integer {i}')\n",
    "            return  # Exit the verification loop if a failure is found\n",
    "    print(f'The Collatz conjecture is verified to be true on {y} number of positive integers')"
   ]
  },
  {
   "cell_type": "code",
   "execution_count": 40,
   "metadata": {
    "scrolled": true
   },
   "outputs": [
    {
     "name": "stdout",
     "output_type": "stream",
     "text": [
      "The Collatz conjecture is verified to be true on 10000 number of positive integers\n"
     ]
    }
   ],
   "source": [
    "verify(10000)"
   ]
  },
  {
   "cell_type": "markdown",
   "metadata": {},
   "source": [
    "---\n",
    "\n",
    "## Task Two"
   ]
  },
  {
   "cell_type": "code",
   "execution_count": null,
   "metadata": {},
   "outputs": [],
   "source": []
  },
  {
   "cell_type": "markdown",
   "metadata": {},
   "source": [
    "***\n",
    "# End"
   ]
  }
 ],
 "metadata": {
  "kernelspec": {
   "display_name": "Python 3 (ipykernel)",
   "language": "python",
   "name": "python3"
  },
  "language_info": {
   "codemirror_mode": {
    "name": "ipython",
    "version": 3
   },
   "file_extension": ".py",
   "mimetype": "text/x-python",
   "name": "python",
   "nbconvert_exporter": "python",
   "pygments_lexer": "ipython3",
   "version": "3.9.5"
  }
 },
 "nbformat": 4,
 "nbformat_minor": 4
}
