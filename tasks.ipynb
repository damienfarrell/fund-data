{
 "cells": [
  {
   "cell_type": "markdown",
   "metadata": {},
   "source": [
    "# Fundamentals of Data Analysis Tasks\n",
    "\n",
    "---\n",
    "\n",
    "**Author: Damien Farrell**\n",
    "\n",
    "---"
   ]
  },
  {
   "cell_type": "markdown",
   "metadata": {},
   "source": [
    "## Task One\n",
    "\n",
    "> The Collatz conjecture is a famous unsolved problem in mathematics. The problem is to prove that if you start with any positive integer $x$ and repeatedly apply the function $f(x)$ below, you always get stuck in the repeating sequence $1, 4, 2, 1, 4, 2, ...$\n",
    "> $$\n",
    "> f(n) = \n",
    "> \\begin{cases} \n",
    "> n \\div 2 & \\text{if } n \\text{ is even} \\\\\n",
    "> 3n + 1 & \\text{if } n \\text{ is odd}\n",
    "> \\end{cases}\n",
    "> $$\n",
    "> Your task is to verify, using Python, that the conjecture is true for the first 10,000 positive integers."
   ]
  },
  {
   "cell_type": "markdown",
   "metadata": {},
   "source": [
    "**Function f(x) to carry out the calculation.**"
   ]
  },
  {
   "cell_type": "code",
   "execution_count": 1,
   "metadata": {},
   "outputs": [],
   "source": [
    "from tqdm.notebook import tqdm"
   ]
  },
  {
   "cell_type": "code",
   "execution_count": 2,
   "metadata": {},
   "outputs": [],
   "source": [
    "def f(x):\n",
    "    if x % 2 == 0:\n",
    "        return x // 2\n",
    "    else:\n",
    "        return (3 * x) + 1"
   ]
  },
  {
   "cell_type": "markdown",
   "metadata": {},
   "source": [
    "**Fuction collatz(x) to loop through the calculation until $x = 1$.**"
   ]
  },
  {
   "cell_type": "code",
   "execution_count": 3,
   "metadata": {},
   "outputs": [],
   "source": [
    "def collatz(x, verbose=False):\n",
    "    while x != 1:\n",
    "        if verbose:\n",
    "            print(x, end=', ')\n",
    "        x = f(x)\n",
    "    if verbose:\n",
    "        print(x, end='\\n')\n",
    "        print()\n",
    "    return x"
   ]
  },
  {
   "cell_type": "markdown",
   "metadata": {},
   "source": [
    "**Fuction verify(y) to verify the Collatz conjecture on $y$ number of positive integers.**"
   ]
  },
  {
   "cell_type": "code",
   "execution_count": 4,
   "metadata": {},
   "outputs": [],
   "source": [
    "def verify(y, verbose=False):\n",
    "    for i in range(1, y + 1):\n",
    "        result = collatz(i, verbose)\n",
    "        if result != 1:\n",
    "            print(f'The Collatz conjecture is false, it failed on integer {i}')\n",
    "            return\n",
    "\n",
    "    print(f'The Collatz conjecture is verified to be true on {y:,} number of positive integers')"
   ]
  },
  {
   "cell_type": "markdown",
   "metadata": {},
   "source": [
    "<p>To show the calculation on each iteration, set verbose = True.<sup id=\"fnref:1\"><a href=\"#fn:1\">1</a></sup></p>"
   ]
  },
  {
   "cell_type": "code",
   "execution_count": 5,
   "metadata": {
    "scrolled": true
   },
   "outputs": [
    {
     "name": "stdout",
     "output_type": "stream",
     "text": [
      "The Collatz conjecture is verified to be true on 10,000 number of positive integers\n"
     ]
    }
   ],
   "source": [
    "verify(10_000, verbose=False)"
   ]
  },
  {
   "cell_type": "markdown",
   "metadata": {},
   "source": [
    "---\n",
    "\n",
    "## Task Two\n",
    "\n",
    "> Give an overview of the famous penguins data set, explaining the types of variables it contains. Suggest the types of variables that should be used to model them in Python, explaining your rationale."
   ]
  },
  {
   "cell_type": "code",
   "execution_count": 6,
   "metadata": {},
   "outputs": [],
   "source": [
    "import pandas as pd\n",
    "import numpy as np\n",
    "\n",
    "url_name = 'https://raw.githubusercontent.com/mwaskom/seaborn-data/master/penguins.csv'\n",
    "\n",
    "df = pd.read_csv(url_name)"
   ]
  },
  {
   "cell_type": "code",
   "execution_count": 7,
   "metadata": {},
   "outputs": [
    {
     "data": {
      "text/html": [
       "<div>\n",
       "<style scoped>\n",
       "    .dataframe tbody tr th:only-of-type {\n",
       "        vertical-align: middle;\n",
       "    }\n",
       "\n",
       "    .dataframe tbody tr th {\n",
       "        vertical-align: top;\n",
       "    }\n",
       "\n",
       "    .dataframe thead th {\n",
       "        text-align: right;\n",
       "    }\n",
       "</style>\n",
       "<table border=\"1\" class=\"dataframe\">\n",
       "  <thead>\n",
       "    <tr style=\"text-align: right;\">\n",
       "      <th></th>\n",
       "      <th>species</th>\n",
       "      <th>island</th>\n",
       "      <th>bill_length_mm</th>\n",
       "      <th>bill_depth_mm</th>\n",
       "      <th>flipper_length_mm</th>\n",
       "      <th>body_mass_g</th>\n",
       "      <th>sex</th>\n",
       "    </tr>\n",
       "  </thead>\n",
       "  <tbody>\n",
       "    <tr>\n",
       "      <th>0</th>\n",
       "      <td>Adelie</td>\n",
       "      <td>Torgersen</td>\n",
       "      <td>39.1</td>\n",
       "      <td>18.7</td>\n",
       "      <td>181.0</td>\n",
       "      <td>3750.0</td>\n",
       "      <td>MALE</td>\n",
       "    </tr>\n",
       "    <tr>\n",
       "      <th>1</th>\n",
       "      <td>Adelie</td>\n",
       "      <td>Torgersen</td>\n",
       "      <td>39.5</td>\n",
       "      <td>17.4</td>\n",
       "      <td>186.0</td>\n",
       "      <td>3800.0</td>\n",
       "      <td>FEMALE</td>\n",
       "    </tr>\n",
       "    <tr>\n",
       "      <th>2</th>\n",
       "      <td>Adelie</td>\n",
       "      <td>Torgersen</td>\n",
       "      <td>40.3</td>\n",
       "      <td>18.0</td>\n",
       "      <td>195.0</td>\n",
       "      <td>3250.0</td>\n",
       "      <td>FEMALE</td>\n",
       "    </tr>\n",
       "    <tr>\n",
       "      <th>3</th>\n",
       "      <td>Adelie</td>\n",
       "      <td>Torgersen</td>\n",
       "      <td>NaN</td>\n",
       "      <td>NaN</td>\n",
       "      <td>NaN</td>\n",
       "      <td>NaN</td>\n",
       "      <td>NaN</td>\n",
       "    </tr>\n",
       "    <tr>\n",
       "      <th>4</th>\n",
       "      <td>Adelie</td>\n",
       "      <td>Torgersen</td>\n",
       "      <td>36.7</td>\n",
       "      <td>19.3</td>\n",
       "      <td>193.0</td>\n",
       "      <td>3450.0</td>\n",
       "      <td>FEMALE</td>\n",
       "    </tr>\n",
       "  </tbody>\n",
       "</table>\n",
       "</div>"
      ],
      "text/plain": [
       "  species     island  bill_length_mm  bill_depth_mm  flipper_length_mm  \\\n",
       "0  Adelie  Torgersen            39.1           18.7              181.0   \n",
       "1  Adelie  Torgersen            39.5           17.4              186.0   \n",
       "2  Adelie  Torgersen            40.3           18.0              195.0   \n",
       "3  Adelie  Torgersen             NaN            NaN                NaN   \n",
       "4  Adelie  Torgersen            36.7           19.3              193.0   \n",
       "\n",
       "   body_mass_g     sex  \n",
       "0       3750.0    MALE  \n",
       "1       3800.0  FEMALE  \n",
       "2       3250.0  FEMALE  \n",
       "3          NaN     NaN  \n",
       "4       3450.0  FEMALE  "
      ]
     },
     "execution_count": 7,
     "metadata": {},
     "output_type": "execute_result"
    }
   ],
   "source": [
    "df.head()"
   ]
  },
  {
   "cell_type": "code",
   "execution_count": 8,
   "metadata": {},
   "outputs": [
    {
     "data": {
      "text/plain": [
       "species               object\n",
       "island                object\n",
       "bill_length_mm       float64\n",
       "bill_depth_mm        float64\n",
       "flipper_length_mm    float64\n",
       "body_mass_g          float64\n",
       "sex                   object\n",
       "dtype: object"
      ]
     },
     "execution_count": 8,
     "metadata": {},
     "output_type": "execute_result"
    }
   ],
   "source": [
    "df.dtypes"
   ]
  },
  {
   "cell_type": "markdown",
   "metadata": {},
   "source": [
    "<p>To determine the unique values for the categorical variables:<sup id=\"fnref:1\"><a href=\"#fn:1\">2</a></sup></p>"
   ]
  },
  {
   "cell_type": "code",
   "execution_count": 10,
   "metadata": {},
   "outputs": [
    {
     "name": "stdout",
     "output_type": "stream",
     "text": [
      "['Adelie' 'Chinstrap' 'Gentoo']\n",
      "['Torgersen' 'Biscoe' 'Dream']\n",
      "['MALE' 'FEMALE' nan]\n"
     ]
    }
   ],
   "source": [
    "categorical_variables = df[[\"species\",\"island\",\"sex\"]]\n",
    "\n",
    "for variables in categorical_variables:\n",
    "  print(df[variables].unique())"
   ]
  },
  {
   "cell_type": "markdown",
   "metadata": {},
   "source": [
    "### To Summarise:\n",
    "**Species (Categorical Variable):** <br>\n",
    "This variable represents the species of penguins, and it is categorical. It has three possible categories: Adelie, Chinstrap, and Gentoo. In the dataframe it is an object which contain strings. An object is a catch-all data type that can represent various types of data.\n",
    "\n",
    "**Island (Categorical Variable):** <br>\n",
    "The dataset includes the island where the penguins were observed: Biscoe, Dream, and Torgersen. Like the \"Species\" variable, this is a categorical variable. In the dataframe it is an object which contain strings.\n",
    "\n",
    "**Bill Length (Numerical Variable):** <br>\n",
    "This variable represents the length of the penguin's culmen bill. It is a numerical variable which is a floating-point.\n",
    "\n",
    "**Bill Depth (Numerical Variable):** <br>\n",
    "Similar to culmen length, this variable represents the depth of the penguin's bill. It is a numerical variable which is a floating-point.\n",
    "\n",
    "**Flipper Length (Numerical Variable):** <br>\n",
    "This variable represents the length of the penguin's flipper. It is a numerical variable which is a floating-point.\n",
    "\n",
    "**Body Mass (Numerical Variable):** <br>\n",
    "Body mass represents the weight of the penguins. It is a numerical variable which is a floating-point.\n",
    "\n",
    "**Sex (Categorical Variable):** <br>\n",
    "The dataset includes the sex of the penguins, which is categorical and has three categories: Male, Female, and NaN (missing data). In the dataframe it is an object which contains strings and null values.\n"
   ]
  },
  {
   "cell_type": "markdown",
   "metadata": {},
   "source": [
    "---\n",
    "## Task Three\n",
    "\n"
   ]
  },
  {
   "cell_type": "markdown",
   "metadata": {},
   "source": []
  },
  {
   "cell_type": "markdown",
   "metadata": {},
   "source": [
    "# References\n",
    "---"
   ]
  },
  {
   "cell_type": "markdown",
   "metadata": {},
   "source": [
    "<ol>\n",
    "  <li>\n",
    "    <a href=\"https://stackoverflow.com/questions/5980042/how-to-implement-the-verbose-or-v-option-into-a-script\" id=\"fn:1\">How to implement the --verbose or -v option into a script?</a>\n",
    "  </li>\n",
    "  <li>\n",
    "    <a href=\"https://www.statology.org/pandas-unique-values-in-column/\" id=\"fn:2\">Pandas: How to Find Unique Values in a Column</a>\n",
    "  </li>\n",
    "  <li>\n",
    "    <a href=\"URL_OF_YOUR_THIRD_LINK\" id=\"fn:3\">Third Link Text</a>\n",
    "  </li>\n",
    "  <li>\n",
    "    <a href=\"URL_OF_YOUR_FOURTH_LINK\" id=\"fn:4\">Fourth Link Text</a>\n",
    "  </li>\n",
    "  <li>\n",
    "    <a href=\"URL_OF_YOUR_FIFTH_LINK\" id=\"fn:5\">Fifth Link Text</a>\n",
    "  </li>\n",
    "  <li>\n",
    "    <a href=\"URL_OF_YOUR_SIXTH_LINK\" id=\"fn:6\">Sixth Link Text</a>\n",
    "  </li>\n",
    "  <li>\n",
    "    <a href=\"URL_OF_YOUR_SEVENTH_LINK\" id=\"fn:7\">Seventh Link Text</a>\n",
    "  </li>\n",
    "  <li>\n",
    "    <a href=\"URL_OF_YOUR_EIGHTH_LINK\" id=\"fn:8\">Eighth Link Text</a>\n",
    "  </li>\n",
    "  <li>\n",
    "    <a href=\"URL_OF_YOUR_NINTH_LINK\" id=\"fn:9\">Ninth Link Text</a>\n",
    "  </li>\n",
    "  <li>\n",
    "    <a href=\"URL_OF_YOUR_TENTH_LINK\" id=\"fn:10\">Tenth Link Text</a>\n",
    "  </li>\n",
    "</ol>\n",
    "\n"
   ]
  },
  {
   "cell_type": "markdown",
   "metadata": {},
   "source": [
    "***\n",
    "# End"
   ]
  }
 ],
 "metadata": {
  "kernelspec": {
   "display_name": "Python 3 (ipykernel)",
   "language": "python",
   "name": "python3"
  },
  "language_info": {
   "codemirror_mode": {
    "name": "ipython",
    "version": 3
   },
   "file_extension": ".py",
   "mimetype": "text/x-python",
   "name": "python",
   "nbconvert_exporter": "python",
   "pygments_lexer": "ipython3",
   "version": "3.9.5"
  }
 },
 "nbformat": 4,
 "nbformat_minor": 4
}
